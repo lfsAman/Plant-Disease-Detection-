{
  "nbformat": 4,
  "nbformat_minor": 0,
  "metadata": {
    "colab": {
      "provenance": [],
      "gpuType": "T4"
    },
    "kernelspec": {
      "name": "python3",
      "display_name": "Python 3"
    },
    "language_info": {
      "name": "python"
    },
    "accelerator": "GPU"
  },
  "cells": [
    {
      "cell_type": "code",
      "execution_count": null,
      "metadata": {
        "id": "W9eoxg7YHH_7"
      },
      "outputs": [],
      "source": [
        "import torch\n",
        "import tensorflow as tf\n",
        "import random\n",
        "from shutil import copyfile\n",
        "from tensorflow.keras.preprocessing.image import ImageDataGenerator"
      ]
    },
    {
      "cell_type": "code",
      "source": [
        "import zipfile\n",
        "local_zip=\"/content/drive/MyDrive/PlantVillage.zip\"\n"
      ],
      "metadata": {
        "id": "gKTeAt4zHZzO"
      },
      "execution_count": null,
      "outputs": []
    },
    {
      "cell_type": "code",
      "source": [
        "zip_ref = zipfile.ZipFile(local_zip, 'r')\n",
        "zip_ref.extractall()\n",
        "zip_ref.close()\n"
      ],
      "metadata": {
        "id": "dqruIHWsHrs9"
      },
      "execution_count": null,
      "outputs": []
    },
    {
      "cell_type": "code",
      "source": [
        "train_size=0.9"
      ],
      "metadata": {
        "id": "gbqAdA-4H8gx"
      },
      "execution_count": null,
      "outputs": []
    },
    {
      "cell_type": "code",
      "source": [
        "import os\n",
        "files=os.listdir('PlantVillage')"
      ],
      "metadata": {
        "id": "GySB87OmINNk"
      },
      "execution_count": null,
      "outputs": []
    },
    {
      "cell_type": "code",
      "source": [
        "files"
      ],
      "metadata": {
        "colab": {
          "base_uri": "https://localhost:8080/"
        },
        "id": "ubP7pn8HIkdQ",
        "outputId": "69bef12e-b02f-4325-8a2c-ccf788f8379b"
      },
      "execution_count": null,
      "outputs": [
        {
          "output_type": "execute_result",
          "data": {
            "text/plain": [
              "['Pepper__bell___healthy',\n",
              " 'Tomato_healthy',\n",
              " 'Tomato_Early_blight',\n",
              " 'Potato___healthy',\n",
              " 'Potato___Early_blight',\n",
              " 'Tomato__Target_Spot',\n",
              " 'Tomato__Tomato_mosaic_virus',\n",
              " 'Pepper__bell___Bacterial_spot',\n",
              " 'Tomato_Spider_mites_Two_spotted_spider_mite',\n",
              " 'Tomato__Tomato_YellowLeaf__Curl_Virus',\n",
              " 'Potato___Late_blight',\n",
              " 'Tomato_Leaf_Mold',\n",
              " 'Tomato_Bacterial_spot',\n",
              " 'Tomato_Late_blight',\n",
              " 'Tomato_Septoria_leaf_spot']"
            ]
          },
          "metadata": {},
          "execution_count": 6
        }
      ]
    },
    {
      "cell_type": "code",
      "source": [
        "train_dir='PlantVillage/training'\n",
        "test_dir='PlantVillage/testing'"
      ],
      "metadata": {
        "id": "65x6HJb1Ilc1"
      },
      "execution_count": null,
      "outputs": []
    },
    {
      "cell_type": "code",
      "source": [
        "test_dir"
      ],
      "metadata": {
        "colab": {
          "base_uri": "https://localhost:8080/",
          "height": 35
        },
        "id": "Ex_Rjn0eajpl",
        "outputId": "5b9298bd-1aec-4fa7-f677-bf07e491afae"
      },
      "execution_count": null,
      "outputs": [
        {
          "output_type": "execute_result",
          "data": {
            "text/plain": [
              "'PlantVillage/testing'"
            ],
            "application/vnd.google.colaboratory.intrinsic+json": {
              "type": "string"
            }
          },
          "metadata": {},
          "execution_count": 8
        }
      ]
    },
    {
      "cell_type": "code",
      "source": [
        "os.makedirs(train_dir)\n",
        "os.makedirs(test_dir)"
      ],
      "metadata": {
        "id": "e28HQDrEI_u-"
      },
      "execution_count": null,
      "outputs": []
    },
    {
      "cell_type": "code",
      "source": [
        "def split_data(source_dir,training_dir,testing_dir,split_size):\n",
        "  files=os.listdir(source_dir)\n",
        "  random.shuffle(files)\n",
        "  split_index=int(len(files)*split_size)\n",
        "  training_files=files[:split_index]\n",
        "  testing_files=files[split_index:]\n",
        "\n",
        "  for file in training_files:\n",
        "    source=os.path.join(source_dir,file)\n",
        "    destination=os.path.join(training_dir,file)\n",
        "    if os.path.getsize(source)>0:\n",
        "      copyfile(source,destination)\n",
        "    else:\n",
        "      print(f\"{file} is zero length,so ignoring\")\n",
        "\n",
        "  for file in testing_files:\n",
        "    source=os.path.join(source_dir,file)\n",
        "    destination=os.path.join(testing_dir,file)\n",
        "    if os.path.getsize(source)>0:\n",
        "      copyfile(source,destination)\n",
        "    else:\n",
        "      print(f\"{file} is zero length,so ignoring\")\n",
        "  pass"
      ],
      "metadata": {
        "id": "v_WfdqAEYYeT"
      },
      "execution_count": null,
      "outputs": []
    },
    {
      "cell_type": "code",
      "source": [
        "os.makedirs('PlantVillage/training/early_blight')\n",
        "os.makedirs('PlantVillage/training/late_blight')\n",
        "os.makedirs('PlantVillage/training/healthy')"
      ],
      "metadata": {
        "id": "AgGkhfYFdGow"
      },
      "execution_count": null,
      "outputs": []
    },
    {
      "cell_type": "code",
      "source": [
        "os.makedirs('PlantVillage/testing/early_blight')\n",
        "os.makedirs('PlantVillage/testing/late_blight')\n",
        "os.makedirs('PlantVillage/testing/healthy')"
      ],
      "metadata": {
        "id": "l_BIBjsfdfZ9"
      },
      "execution_count": null,
      "outputs": []
    },
    {
      "cell_type": "code",
      "source": [
        "source_dirs=['PlantVillage/Potato___Early_blight','PlantVillage/Potato___Late_blight','PlantVillage/Potato___healthy']"
      ],
      "metadata": {
        "id": "CyFRPDE0ZDUS"
      },
      "execution_count": null,
      "outputs": []
    },
    {
      "cell_type": "code",
      "source": [
        "training_dir_early_blight='PlantVillage/training/early_blight'\n",
        "training_dir_late_blight='PlantVillage/training/late_blight'\n",
        "training_dir_healthy='PlantVillage/training/healthy'\n",
        "testing_dir_early_blight='PlantVillage/testing/early_blight'\n",
        "testing_dir_late_blight='PlantVillage/testing/late_blight'\n",
        "testing_dir_healthy='PlantVillage/testing/healthy'\n",
        "\n",
        "\n",
        "\n",
        "split_data(source_dirs[0],training_dir_early_blight,testing_dir_early_blight,train_size)\n",
        "split_data(source_dirs[1],training_dir_late_blight,testing_dir_late_blight,train_size)\n",
        "split_data(source_dirs[2],training_dir_healthy,testing_dir_healthy,train_size)"
      ],
      "metadata": {
        "id": "k40MePIIdbTI"
      },
      "execution_count": null,
      "outputs": []
    },
    {
      "cell_type": "code",
      "source": [
        "def train_test_generators(training_dir,testing_dir):\n",
        "  train_datagen=ImageDataGenerator(\n",
        "      rescale=1/255,\n",
        "      rotation_range=40,\n",
        "      width_shift_range=0.2,\n",
        "      height_shift_range=0.2,\n",
        "      shear_range=0.2,\n",
        "      zoom_range=0.2,\n",
        "      horizontal_flip=True\n",
        "  )\n",
        "\n",
        "  train_generator=train_datagen.flow_from_directory(\n",
        "      directory=training_dir,\n",
        "      batch_size=32,\n",
        "      class_mode='categorical',\n",
        "      target_size=(256,256)\n",
        "  )\n",
        "\n",
        "  test_datagen=ImageDataGenerator(\n",
        "      rescale=1/255)\n",
        "\n",
        "  test_generator=test_datagen.flow_from_directory(\n",
        "      directory=testing_dir,\n",
        "      batch_size=32,\n",
        "      class_mode='categorical',\n",
        "      target_size=(256,256)\n",
        "  )\n",
        "\n",
        "  return train_generator,test_generator"
      ],
      "metadata": {
        "id": "g1gMU0n9fmam"
      },
      "execution_count": null,
      "outputs": []
    },
    {
      "cell_type": "code",
      "source": [
        "TRAINING_DIR='PlantVillage/training'\n",
        "TESTING_DIR='PlantVillage/testing'\n",
        "train_generator,test_generator=train_test_generators(TRAINING_DIR,TESTING_DIR)"
      ],
      "metadata": {
        "colab": {
          "base_uri": "https://localhost:8080/"
        },
        "id": "qz6ZoMGAhc08",
        "outputId": "f70af1f0-a06e-497d-fea9-3dcc7861bbcb"
      },
      "execution_count": null,
      "outputs": [
        {
          "output_type": "stream",
          "name": "stdout",
          "text": [
            "Found 2129 images belonging to 3 classes.\n",
            "Found 409 images belonging to 3 classes.\n"
          ]
        }
      ]
    },
    {
      "cell_type": "code",
      "source": [
        "train_generator"
      ],
      "metadata": {
        "colab": {
          "base_uri": "https://localhost:8080/"
        },
        "id": "e73vReEwWq1o",
        "outputId": "22926e73-acc6-4d19-b8e1-3cbe80d4dea6"
      },
      "execution_count": null,
      "outputs": [
        {
          "output_type": "execute_result",
          "data": {
            "text/plain": [
              "<keras.src.preprocessing.image.DirectoryIterator at 0x7c0f62214a00>"
            ]
          },
          "metadata": {},
          "execution_count": 18
        }
      ]
    },
    {
      "cell_type": "code",
      "source": [
        "def create_model():\n",
        "  model=tf.keras.Sequential([\n",
        "      tf.keras.layers.Conv2D(16,(3,3),activation='relu',input_shape=(256,256,3)),\n",
        "      tf.keras.layers.MaxPooling2D(2,2),\n",
        "\n",
        "      tf.keras.layers.Conv2D(32,(3,3),activation='relu'),\n",
        "      tf.keras.layers.MaxPooling2D(2,2),\n",
        "\n",
        "      tf.keras.layers.Conv2D(64,(3,3),activation='relu'),\n",
        "      tf.keras.layers.MaxPooling2D(2,2),\n",
        "\n",
        "      tf.keras.layers.Conv2D(64,(3,3),activation='relu'),\n",
        "      tf.keras.layers.MaxPooling2D(2,2),\n",
        "\n",
        "      tf.keras.layers.Flatten(),\n",
        "      tf.keras.layers.Dense(512,activation='relu'),\n",
        "      tf.keras.layers.Dense(3,activation='softmax')\n",
        "\n",
        "  ])\n",
        "\n",
        "  model.compile(\n",
        "    optimizer=tf.keras.optimizers.RMSprop(learning_rate=0.001),\n",
        "    loss='categorical_crossentropy',\n",
        "    metrics=['accuracy']\n",
        "  )\n",
        "\n",
        "  return model"
      ],
      "metadata": {
        "id": "YGOV46fgh1D4"
      },
      "execution_count": null,
      "outputs": []
    },
    {
      "cell_type": "code",
      "source": [
        "model=create_model()"
      ],
      "metadata": {
        "id": "g-fVxvnRSl3V"
      },
      "execution_count": null,
      "outputs": []
    },
    {
      "cell_type": "code",
      "source": [
        "model.summary()"
      ],
      "metadata": {
        "colab": {
          "base_uri": "https://localhost:8080/"
        },
        "id": "Rlgu6M-1Tx6r",
        "outputId": "3ccca2d6-dbf3-4a17-a6d8-70829accac4f"
      },
      "execution_count": null,
      "outputs": [
        {
          "output_type": "stream",
          "name": "stdout",
          "text": [
            "Model: \"sequential\"\n",
            "_________________________________________________________________\n",
            " Layer (type)                Output Shape              Param #   \n",
            "=================================================================\n",
            " conv2d (Conv2D)             (None, 254, 254, 16)      448       \n",
            "                                                                 \n",
            " max_pooling2d (MaxPooling2  (None, 127, 127, 16)      0         \n",
            " D)                                                              \n",
            "                                                                 \n",
            " conv2d_1 (Conv2D)           (None, 125, 125, 32)      4640      \n",
            "                                                                 \n",
            " max_pooling2d_1 (MaxPoolin  (None, 62, 62, 32)        0         \n",
            " g2D)                                                            \n",
            "                                                                 \n",
            " conv2d_2 (Conv2D)           (None, 60, 60, 64)        18496     \n",
            "                                                                 \n",
            " max_pooling2d_2 (MaxPoolin  (None, 30, 30, 64)        0         \n",
            " g2D)                                                            \n",
            "                                                                 \n",
            " conv2d_3 (Conv2D)           (None, 28, 28, 64)        36928     \n",
            "                                                                 \n",
            " max_pooling2d_3 (MaxPoolin  (None, 14, 14, 64)        0         \n",
            " g2D)                                                            \n",
            "                                                                 \n",
            " flatten (Flatten)           (None, 12544)             0         \n",
            "                                                                 \n",
            " dense (Dense)               (None, 512)               6423040   \n",
            "                                                                 \n",
            " dense_1 (Dense)             (None, 3)                 1539      \n",
            "                                                                 \n",
            "=================================================================\n",
            "Total params: 6485091 (24.74 MB)\n",
            "Trainable params: 6485091 (24.74 MB)\n",
            "Non-trainable params: 0 (0.00 Byte)\n",
            "_________________________________________________________________\n"
          ]
        }
      ]
    },
    {
      "cell_type": "code",
      "source": [
        "class myCallback(tf.keras.callbacks.Callback):\n",
        "  def on_epoch_end(self,epoch,logs={}):\n",
        "    if(logs.get('accuracy')>0.999):\n",
        "      print('\\n Reached 99.9% accuracy so cancelling training')\n",
        "      self.model.stop_training=True"
      ],
      "metadata": {
        "id": "G1Czege4VGQ5"
      },
      "execution_count": null,
      "outputs": []
    },
    {
      "cell_type": "code",
      "source": [
        "callbacks=myCallback()\n",
        "history = model.fit(\n",
        "    train_generator,\n",
        "    epochs=100,\n",
        "    validation_data=test_generator,\n",
        "    verbose=2\n",
        ")"
      ],
      "metadata": {
        "colab": {
          "base_uri": "https://localhost:8080/"
        },
        "id": "t0N6gdSlUqUb",
        "outputId": "a8ac4133-8973-4f4c-bb36-a3fe707c1178"
      },
      "execution_count": null,
      "outputs": [
        {
          "output_type": "stream",
          "name": "stdout",
          "text": [
            "Epoch 1/100\n",
            "67/67 - 43s - loss: 0.9408 - accuracy: 0.5101 - val_loss: 0.8345 - val_accuracy: 0.6919 - 43s/epoch - 643ms/step\n",
            "Epoch 2/100\n",
            "67/67 - 37s - loss: 0.7890 - accuracy: 0.6923 - val_loss: 0.6458 - val_accuracy: 0.6455 - 37s/epoch - 553ms/step\n",
            "Epoch 3/100\n",
            "67/67 - 35s - loss: 0.5739 - accuracy: 0.7496 - val_loss: 0.5957 - val_accuracy: 0.7262 - 35s/epoch - 520ms/step\n",
            "Epoch 4/100\n",
            "67/67 - 37s - loss: 0.4891 - accuracy: 0.7816 - val_loss: 0.3506 - val_accuracy: 0.8484 - 37s/epoch - 545ms/step\n",
            "Epoch 5/100\n",
            "67/67 - 36s - loss: 0.3645 - accuracy: 0.8502 - val_loss: 0.4847 - val_accuracy: 0.7653 - 36s/epoch - 535ms/step\n",
            "Epoch 6/100\n",
            "67/67 - 36s - loss: 0.3387 - accuracy: 0.8614 - val_loss: 0.2939 - val_accuracy: 0.8802 - 36s/epoch - 533ms/step\n",
            "Epoch 7/100\n",
            "67/67 - 35s - loss: 0.3512 - accuracy: 0.8675 - val_loss: 0.1720 - val_accuracy: 0.9315 - 35s/epoch - 528ms/step\n",
            "Epoch 8/100\n",
            "67/67 - 36s - loss: 0.3107 - accuracy: 0.8830 - val_loss: 0.4391 - val_accuracy: 0.7971 - 36s/epoch - 541ms/step\n",
            "Epoch 9/100\n",
            "67/67 - 35s - loss: 0.2986 - accuracy: 0.8812 - val_loss: 0.2454 - val_accuracy: 0.9071 - 35s/epoch - 519ms/step\n",
            "Epoch 10/100\n",
            "67/67 - 36s - loss: 0.2649 - accuracy: 0.8948 - val_loss: 0.1478 - val_accuracy: 0.9389 - 36s/epoch - 539ms/step\n",
            "Epoch 11/100\n",
            "67/67 - 37s - loss: 0.2370 - accuracy: 0.9131 - val_loss: 0.2203 - val_accuracy: 0.9095 - 37s/epoch - 547ms/step\n",
            "Epoch 12/100\n",
            "67/67 - 35s - loss: 0.2499 - accuracy: 0.9070 - val_loss: 0.3602 - val_accuracy: 0.8582 - 35s/epoch - 527ms/step\n",
            "Epoch 13/100\n",
            "67/67 - 36s - loss: 0.2192 - accuracy: 0.9140 - val_loss: 0.2537 - val_accuracy: 0.9022 - 36s/epoch - 543ms/step\n",
            "Epoch 14/100\n",
            "67/67 - 38s - loss: 0.2477 - accuracy: 0.9075 - val_loss: 0.2429 - val_accuracy: 0.8949 - 38s/epoch - 571ms/step\n",
            "Epoch 15/100\n",
            "67/67 - 42s - loss: 0.2123 - accuracy: 0.9197 - val_loss: 0.3245 - val_accuracy: 0.8826 - 42s/epoch - 621ms/step\n",
            "Epoch 16/100\n",
            "67/67 - 37s - loss: 0.1929 - accuracy: 0.9272 - val_loss: 0.1282 - val_accuracy: 0.9487 - 37s/epoch - 550ms/step\n",
            "Epoch 17/100\n",
            "67/67 - 35s - loss: 0.2152 - accuracy: 0.9211 - val_loss: 0.4254 - val_accuracy: 0.8386 - 35s/epoch - 522ms/step\n",
            "Epoch 18/100\n",
            "67/67 - 35s - loss: 0.1896 - accuracy: 0.9263 - val_loss: 0.2382 - val_accuracy: 0.9022 - 35s/epoch - 524ms/step\n",
            "Epoch 19/100\n",
            "67/67 - 37s - loss: 0.1623 - accuracy: 0.9413 - val_loss: 0.6991 - val_accuracy: 0.7702 - 37s/epoch - 550ms/step\n",
            "Epoch 20/100\n",
            "67/67 - 37s - loss: 0.1708 - accuracy: 0.9324 - val_loss: 0.1588 - val_accuracy: 0.9413 - 37s/epoch - 554ms/step\n",
            "Epoch 21/100\n",
            "67/67 - 35s - loss: 0.2253 - accuracy: 0.9408 - val_loss: 0.2246 - val_accuracy: 0.9169 - 35s/epoch - 526ms/step\n",
            "Epoch 22/100\n",
            "67/67 - 37s - loss: 0.1575 - accuracy: 0.9427 - val_loss: 0.2078 - val_accuracy: 0.9144 - 37s/epoch - 545ms/step\n",
            "Epoch 23/100\n",
            "67/67 - 37s - loss: 0.1546 - accuracy: 0.9493 - val_loss: 0.3392 - val_accuracy: 0.8949 - 37s/epoch - 549ms/step\n",
            "Epoch 24/100\n",
            "67/67 - 35s - loss: 0.1886 - accuracy: 0.9441 - val_loss: 0.1161 - val_accuracy: 0.9535 - 35s/epoch - 524ms/step\n",
            "Epoch 25/100\n",
            "67/67 - 35s - loss: 0.1092 - accuracy: 0.9587 - val_loss: 0.1687 - val_accuracy: 0.9560 - 35s/epoch - 518ms/step\n",
            "Epoch 26/100\n",
            "67/67 - 35s - loss: 0.1469 - accuracy: 0.9521 - val_loss: 0.5114 - val_accuracy: 0.8044 - 35s/epoch - 518ms/step\n",
            "Epoch 27/100\n",
            "67/67 - 36s - loss: 0.1307 - accuracy: 0.9526 - val_loss: 0.0529 - val_accuracy: 0.9829 - 36s/epoch - 544ms/step\n",
            "Epoch 28/100\n",
            "67/67 - 37s - loss: 0.1745 - accuracy: 0.9521 - val_loss: 0.3929 - val_accuracy: 0.8411 - 37s/epoch - 548ms/step\n",
            "Epoch 29/100\n",
            "67/67 - 37s - loss: 0.1063 - accuracy: 0.9662 - val_loss: 0.0887 - val_accuracy: 0.9731 - 37s/epoch - 557ms/step\n",
            "Epoch 30/100\n",
            "67/67 - 36s - loss: 0.1314 - accuracy: 0.9620 - val_loss: 0.0738 - val_accuracy: 0.9756 - 36s/epoch - 536ms/step\n",
            "Epoch 31/100\n",
            "67/67 - 35s - loss: 0.1277 - accuracy: 0.9591 - val_loss: 0.1838 - val_accuracy: 0.9462 - 35s/epoch - 527ms/step\n",
            "Epoch 32/100\n",
            "67/67 - 37s - loss: 0.1602 - accuracy: 0.9634 - val_loss: 0.2995 - val_accuracy: 0.8606 - 37s/epoch - 545ms/step\n",
            "Epoch 33/100\n",
            "67/67 - 35s - loss: 0.0937 - accuracy: 0.9648 - val_loss: 0.3061 - val_accuracy: 0.8753 - 35s/epoch - 520ms/step\n",
            "Epoch 34/100\n",
            "67/67 - 36s - loss: 0.1952 - accuracy: 0.9521 - val_loss: 0.0701 - val_accuracy: 0.9804 - 36s/epoch - 542ms/step\n",
            "Epoch 35/100\n",
            "67/67 - 36s - loss: 0.1105 - accuracy: 0.9657 - val_loss: 0.3996 - val_accuracy: 0.8680 - 36s/epoch - 537ms/step\n",
            "Epoch 36/100\n",
            "67/67 - 35s - loss: 0.2324 - accuracy: 0.9474 - val_loss: 0.0686 - val_accuracy: 0.9731 - 35s/epoch - 524ms/step\n",
            "Epoch 37/100\n",
            "67/67 - 37s - loss: 0.0770 - accuracy: 0.9723 - val_loss: 0.0954 - val_accuracy: 0.9535 - 37s/epoch - 545ms/step\n",
            "Epoch 38/100\n",
            "67/67 - 37s - loss: 0.0978 - accuracy: 0.9648 - val_loss: 0.0861 - val_accuracy: 0.9756 - 37s/epoch - 556ms/step\n",
            "Epoch 39/100\n",
            "67/67 - 35s - loss: 0.1178 - accuracy: 0.9648 - val_loss: 0.0413 - val_accuracy: 0.9902 - 35s/epoch - 520ms/step\n",
            "Epoch 40/100\n",
            "67/67 - 35s - loss: 0.1187 - accuracy: 0.9629 - val_loss: 0.1488 - val_accuracy: 0.9511 - 35s/epoch - 527ms/step\n",
            "Epoch 41/100\n",
            "67/67 - 36s - loss: 0.0664 - accuracy: 0.9765 - val_loss: 1.2098 - val_accuracy: 0.7237 - 36s/epoch - 534ms/step\n",
            "Epoch 42/100\n",
            "67/67 - 36s - loss: 0.1165 - accuracy: 0.9662 - val_loss: 0.0449 - val_accuracy: 0.9878 - 36s/epoch - 537ms/step\n",
            "Epoch 43/100\n",
            "67/67 - 35s - loss: 0.0762 - accuracy: 0.9756 - val_loss: 0.1633 - val_accuracy: 0.9364 - 35s/epoch - 526ms/step\n",
            "Epoch 44/100\n",
            "67/67 - 35s - loss: 0.0726 - accuracy: 0.9751 - val_loss: 0.1954 - val_accuracy: 0.9389 - 35s/epoch - 521ms/step\n",
            "Epoch 45/100\n",
            "67/67 - 36s - loss: 0.1164 - accuracy: 0.9756 - val_loss: 0.1998 - val_accuracy: 0.9438 - 36s/epoch - 541ms/step\n",
            "Epoch 46/100\n",
            "67/67 - 36s - loss: 0.0618 - accuracy: 0.9807 - val_loss: 0.1879 - val_accuracy: 0.9560 - 36s/epoch - 545ms/step\n",
            "Epoch 47/100\n",
            "67/67 - 36s - loss: 0.0724 - accuracy: 0.9793 - val_loss: 0.1239 - val_accuracy: 0.9633 - 36s/epoch - 545ms/step\n",
            "Epoch 48/100\n",
            "67/67 - 37s - loss: 0.1038 - accuracy: 0.9709 - val_loss: 0.2308 - val_accuracy: 0.9389 - 37s/epoch - 548ms/step\n",
            "Epoch 49/100\n",
            "67/67 - 34s - loss: 0.0665 - accuracy: 0.9756 - val_loss: 0.0428 - val_accuracy: 0.9829 - 34s/epoch - 514ms/step\n",
            "Epoch 50/100\n",
            "67/67 - 36s - loss: 0.0678 - accuracy: 0.9784 - val_loss: 0.0848 - val_accuracy: 0.9780 - 36s/epoch - 541ms/step\n",
            "Epoch 51/100\n",
            "67/67 - 37s - loss: 0.0667 - accuracy: 0.9803 - val_loss: 0.3822 - val_accuracy: 0.9169 - 37s/epoch - 551ms/step\n",
            "Epoch 52/100\n",
            "67/67 - 36s - loss: 0.1124 - accuracy: 0.9704 - val_loss: 0.2119 - val_accuracy: 0.9389 - 36s/epoch - 533ms/step\n",
            "Epoch 53/100\n",
            "67/67 - 35s - loss: 0.1004 - accuracy: 0.9695 - val_loss: 0.0922 - val_accuracy: 0.9633 - 35s/epoch - 517ms/step\n",
            "Epoch 54/100\n",
            "67/67 - 36s - loss: 0.0624 - accuracy: 0.9826 - val_loss: 0.2653 - val_accuracy: 0.9095 - 36s/epoch - 540ms/step\n",
            "Epoch 55/100\n",
            "67/67 - 34s - loss: 0.0704 - accuracy: 0.9756 - val_loss: 0.0503 - val_accuracy: 0.9804 - 34s/epoch - 514ms/step\n",
            "Epoch 56/100\n",
            "67/67 - 37s - loss: 0.0643 - accuracy: 0.9775 - val_loss: 0.0408 - val_accuracy: 0.9927 - 37s/epoch - 549ms/step\n",
            "Epoch 57/100\n",
            "67/67 - 36s - loss: 0.0451 - accuracy: 0.9831 - val_loss: 0.0729 - val_accuracy: 0.9902 - 36s/epoch - 531ms/step\n",
            "Epoch 58/100\n",
            "67/67 - 37s - loss: 0.0703 - accuracy: 0.9798 - val_loss: 0.0857 - val_accuracy: 0.9658 - 37s/epoch - 546ms/step\n",
            "Epoch 59/100\n",
            "67/67 - 34s - loss: 0.0605 - accuracy: 0.9845 - val_loss: 0.6148 - val_accuracy: 0.8117 - 34s/epoch - 514ms/step\n",
            "Epoch 60/100\n",
            "67/67 - 36s - loss: 0.0558 - accuracy: 0.9826 - val_loss: 0.1379 - val_accuracy: 0.9609 - 36s/epoch - 539ms/step\n",
            "Epoch 61/100\n",
            "67/67 - 35s - loss: 0.0625 - accuracy: 0.9793 - val_loss: 0.0459 - val_accuracy: 0.9878 - 35s/epoch - 526ms/step\n",
            "Epoch 62/100\n",
            "67/67 - 37s - loss: 0.0494 - accuracy: 0.9864 - val_loss: 0.3043 - val_accuracy: 0.9169 - 37s/epoch - 547ms/step\n",
            "Epoch 63/100\n",
            "67/67 - 37s - loss: 0.0848 - accuracy: 0.9732 - val_loss: 0.0451 - val_accuracy: 0.9976 - 37s/epoch - 548ms/step\n",
            "Epoch 64/100\n",
            "67/67 - 37s - loss: 0.0593 - accuracy: 0.9831 - val_loss: 0.0826 - val_accuracy: 0.9682 - 37s/epoch - 547ms/step\n",
            "Epoch 65/100\n",
            "67/67 - 35s - loss: 0.0409 - accuracy: 0.9878 - val_loss: 0.0449 - val_accuracy: 0.9756 - 35s/epoch - 517ms/step\n",
            "Epoch 66/100\n",
            "67/67 - 35s - loss: 0.0572 - accuracy: 0.9812 - val_loss: 0.0218 - val_accuracy: 0.9927 - 35s/epoch - 527ms/step\n",
            "Epoch 67/100\n",
            "67/67 - 35s - loss: 0.0396 - accuracy: 0.9887 - val_loss: 0.0167 - val_accuracy: 0.9902 - 35s/epoch - 523ms/step\n",
            "Epoch 68/100\n",
            "67/67 - 36s - loss: 0.0704 - accuracy: 0.9793 - val_loss: 0.0988 - val_accuracy: 0.9584 - 36s/epoch - 540ms/step\n",
            "Epoch 69/100\n",
            "67/67 - 35s - loss: 0.0518 - accuracy: 0.9831 - val_loss: 0.0715 - val_accuracy: 0.9731 - 35s/epoch - 524ms/step\n",
            "Epoch 70/100\n",
            "67/67 - 35s - loss: 0.0533 - accuracy: 0.9845 - val_loss: 0.0815 - val_accuracy: 0.9756 - 35s/epoch - 527ms/step\n",
            "Epoch 71/100\n",
            "67/67 - 35s - loss: 0.0810 - accuracy: 0.9789 - val_loss: 0.0257 - val_accuracy: 0.9976 - 35s/epoch - 528ms/step\n",
            "Epoch 72/100\n",
            "67/67 - 37s - loss: 0.0459 - accuracy: 0.9887 - val_loss: 0.0372 - val_accuracy: 0.9853 - 37s/epoch - 549ms/step\n",
            "Epoch 73/100\n",
            "67/67 - 35s - loss: 0.0385 - accuracy: 0.9887 - val_loss: 0.0206 - val_accuracy: 0.9927 - 35s/epoch - 519ms/step\n",
            "Epoch 74/100\n",
            "67/67 - 36s - loss: 0.0656 - accuracy: 0.9812 - val_loss: 0.0603 - val_accuracy: 0.9902 - 36s/epoch - 544ms/step\n",
            "Epoch 75/100\n",
            "67/67 - 35s - loss: 0.0354 - accuracy: 0.9887 - val_loss: 0.0680 - val_accuracy: 0.9780 - 35s/epoch - 524ms/step\n",
            "Epoch 76/100\n",
            "67/67 - 36s - loss: 0.0499 - accuracy: 0.9840 - val_loss: 0.0581 - val_accuracy: 0.9902 - 36s/epoch - 539ms/step\n",
            "Epoch 77/100\n",
            "67/67 - 34s - loss: 0.0830 - accuracy: 0.9812 - val_loss: 0.1099 - val_accuracy: 0.9731 - 34s/epoch - 514ms/step\n",
            "Epoch 78/100\n",
            "67/67 - 36s - loss: 0.0343 - accuracy: 0.9878 - val_loss: 0.0283 - val_accuracy: 0.9976 - 36s/epoch - 543ms/step\n",
            "Epoch 79/100\n",
            "67/67 - 35s - loss: 0.0476 - accuracy: 0.9878 - val_loss: 0.0925 - val_accuracy: 0.9707 - 35s/epoch - 523ms/step\n",
            "Epoch 80/100\n",
            "67/67 - 37s - loss: 0.0431 - accuracy: 0.9911 - val_loss: 0.0725 - val_accuracy: 0.9780 - 37s/epoch - 548ms/step\n",
            "Epoch 81/100\n",
            "67/67 - 37s - loss: 0.0479 - accuracy: 0.9845 - val_loss: 0.0322 - val_accuracy: 0.9976 - 37s/epoch - 558ms/step\n",
            "Epoch 82/100\n",
            "67/67 - 34s - loss: 0.0419 - accuracy: 0.9859 - val_loss: 0.0772 - val_accuracy: 0.9731 - 34s/epoch - 512ms/step\n",
            "Epoch 83/100\n",
            "67/67 - 34s - loss: 0.0764 - accuracy: 0.9812 - val_loss: 0.0538 - val_accuracy: 0.9951 - 34s/epoch - 514ms/step\n",
            "Epoch 84/100\n",
            "67/67 - 36s - loss: 0.0335 - accuracy: 0.9906 - val_loss: 0.0498 - val_accuracy: 0.9878 - 36s/epoch - 535ms/step\n",
            "Epoch 85/100\n",
            "67/67 - 35s - loss: 0.0571 - accuracy: 0.9854 - val_loss: 0.0512 - val_accuracy: 0.9976 - 35s/epoch - 527ms/step\n",
            "Epoch 86/100\n",
            "67/67 - 36s - loss: 0.0472 - accuracy: 0.9831 - val_loss: 0.0497 - val_accuracy: 0.9829 - 36s/epoch - 537ms/step\n",
            "Epoch 87/100\n",
            "67/67 - 34s - loss: 0.0394 - accuracy: 0.9883 - val_loss: 0.0270 - val_accuracy: 0.9927 - 34s/epoch - 511ms/step\n",
            "Epoch 88/100\n",
            "67/67 - 36s - loss: 0.0526 - accuracy: 0.9854 - val_loss: 0.0661 - val_accuracy: 0.9804 - 36s/epoch - 542ms/step\n",
            "Epoch 89/100\n",
            "67/67 - 37s - loss: 0.0380 - accuracy: 0.9897 - val_loss: 0.0780 - val_accuracy: 0.9780 - 37s/epoch - 548ms/step\n",
            "Epoch 90/100\n",
            "67/67 - 36s - loss: 0.0627 - accuracy: 0.9868 - val_loss: 0.0375 - val_accuracy: 0.9829 - 36s/epoch - 540ms/step\n",
            "Epoch 91/100\n",
            "67/67 - 36s - loss: 0.0421 - accuracy: 0.9887 - val_loss: 0.0428 - val_accuracy: 0.9853 - 36s/epoch - 542ms/step\n",
            "Epoch 92/100\n",
            "67/67 - 36s - loss: 0.0376 - accuracy: 0.9897 - val_loss: 0.0883 - val_accuracy: 0.9804 - 36s/epoch - 544ms/step\n",
            "Epoch 93/100\n",
            "67/67 - 35s - loss: 0.0452 - accuracy: 0.9915 - val_loss: 0.1113 - val_accuracy: 0.9707 - 35s/epoch - 518ms/step\n",
            "Epoch 94/100\n",
            "67/67 - 36s - loss: 0.0634 - accuracy: 0.9897 - val_loss: 0.0635 - val_accuracy: 0.9878 - 36s/epoch - 542ms/step\n",
            "Epoch 95/100\n",
            "67/67 - 35s - loss: 0.0409 - accuracy: 0.9883 - val_loss: 0.0457 - val_accuracy: 0.9951 - 35s/epoch - 519ms/step\n",
            "Epoch 96/100\n",
            "67/67 - 36s - loss: 0.0327 - accuracy: 0.9934 - val_loss: 0.0206 - val_accuracy: 0.9927 - 36s/epoch - 538ms/step\n",
            "Epoch 97/100\n",
            "67/67 - 34s - loss: 0.0600 - accuracy: 0.9845 - val_loss: 0.0475 - val_accuracy: 0.9853 - 34s/epoch - 512ms/step\n",
            "Epoch 98/100\n",
            "67/67 - 36s - loss: 0.0352 - accuracy: 0.9883 - val_loss: 0.0868 - val_accuracy: 0.9780 - 36s/epoch - 540ms/step\n",
            "Epoch 99/100\n",
            "67/67 - 34s - loss: 0.0399 - accuracy: 0.9868 - val_loss: 0.0443 - val_accuracy: 0.9853 - 34s/epoch - 510ms/step\n",
            "Epoch 100/100\n",
            "67/67 - 36s - loss: 0.0429 - accuracy: 0.9864 - val_loss: 0.0272 - val_accuracy: 0.9927 - 36s/epoch - 533ms/step\n"
          ]
        }
      ]
    },
    {
      "cell_type": "code",
      "source": [
        "acc=history.history['accuracy']\n",
        "loss=history.history['loss']\n",
        "val_acc=history.history['val_accuracy']\n",
        "loss=history.history['val_loss']"
      ],
      "metadata": {
        "id": "ZDHZ5FlYWZgh"
      },
      "execution_count": null,
      "outputs": []
    },
    {
      "cell_type": "code",
      "source": [
        "epochs=range(len(acc))\n"
      ],
      "metadata": {
        "id": "Lh7fkPEPcduZ"
      },
      "execution_count": null,
      "outputs": []
    },
    {
      "cell_type": "code",
      "source": [
        "import matplotlib.pyplot as plt\n",
        "\n",
        "plt.plot(epochs,acc,'r',label='Training accuracy')\n",
        "plt.plot(epochs,val_acc,'b',label='Valiadtion accuracy')\n",
        "plt.figure()\n",
        "plt.show()"
      ],
      "metadata": {
        "id": "DfDr7gvIcgAl",
        "colab": {
          "base_uri": "https://localhost:8080/",
          "height": 448
        },
        "outputId": "8baec8fd-306a-492b-8afa-619bb698b976"
      },
      "execution_count": null,
      "outputs": [
        {
          "output_type": "display_data",
          "data": {
            "text/plain": [
              "<Figure size 640x480 with 1 Axes>"
            ],
            "image/png": "[encoded data removed]"
          },
          "metadata": {}
        },
        {
          "output_type": "display_data",
          "data": {
            "text/plain": [
              "<Figure size 640x480 with 0 Axes>"
            ]
          },
          "metadata": {}
        }
      ]
    },
    {
      "cell_type": "code",
      "source": [
        "from tensorflow.keras.models import save_model\n",
        "\n",
        "save_model(model, 'model.h5')"
      ],
      "metadata": {
        "colab": {
          "base_uri": "https://localhost:8080/"
        },
        "id": "Q8EATEsKnxKk",
        "outputId": "882ffdb0-60aa-47ba-de1b-c7855aca8f61"
      },
      "execution_count": null,
      "outputs": [
        {
          "output_type": "stream",
          "name": "stderr",
          "text": [
            "<ipython-input-28-86b39f432807>:3: UserWarning: You are saving your model as an HDF5 file via `model.save()`. This file format is considered legacy. We recommend using instead the native Keras format, e.g. `model.save('my_model.keras')`.\n",
            "  save_model(model, 'model.h5')\n"
          ]
        }
      ]
    },
    {
      "cell_type": "code",
      "source": [
        "import requests\n",
        "\n",
        "url = 'https://example.com/path/to/model.pkl'\n",
        "filename = 'model.pkl'\n",
        "\n",
        "response = requests.get(url)\n",
        "with open(filename, 'wb') as f:\n",
        "    f.write(response.content)\n",
        "\n",
        "print(\"Model downloaded successfully.\")"
      ],
      "metadata": {
        "colab": {
          "base_uri": "https://localhost:8080/"
        },
        "id": "nuWHb8ZOn2_Z",
        "outputId": "ef3ee5ff-2e6b-45eb-8626-621e5c3d26a6"
      },
      "execution_count": null,
      "outputs": [
        {
          "output_type": "stream",
          "name": "stdout",
          "text": [
            "Model downloaded successfully.\n"
          ]
        }
      ]
    },
    {
      "cell_type": "code",
      "source": [
        "import pick"
      ],
      "metadata": {
        "id": "23F1azq4n_YR"
      },
      "execution_count": null,
      "outputs": []
    }
  ]
}